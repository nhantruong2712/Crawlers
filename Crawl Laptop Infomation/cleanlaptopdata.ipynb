{
  "nbformat": 4,
  "nbformat_minor": 0,
  "metadata": {
    "colab": {
      "name": "cleanlaptopdata.ipynb",
      "provenance": [],
      "collapsed_sections": [],
      "toc_visible": true
    },
    "kernelspec": {
      "display_name": "Python 3",
      "name": "python3"
    },
    "language_info": {
      "name": "python"
    }
  },
  "cells": [
    {
      "cell_type": "markdown",
      "metadata": {
        "id": "Bet1f2TSw5h9"
      },
      "source": [
        "# UPLOAD FILE XLSX"
      ]
    },
    {
      "cell_type": "code",
      "metadata": {
        "colab": {
          "resources": {
            "http://localhost:8080/nbextensions/google.colab/files.js": {
              "data": "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",
              "headers": [
                [
                  "content-type",
                  "application/javascript"
                ]
              ],
              "ok": true,
              "status": 200,
              "status_text": ""
            }
          },
          "base_uri": "https://localhost:8080/",
          "height": 73
        },
        "id": "lh-S-32F9KFc",
        "outputId": "0054dbc4-2793-4887-b9f0-cc34730e2806"
      },
      "source": [
        "from google.colab import files\n",
        "uploaded = files.upload()"
      ],
      "execution_count": null,
      "outputs": [
        {
          "output_type": "display_data",
          "data": {
            "text/html": [
              "\n",
              "     <input type=\"file\" id=\"files-58001838-7299-477f-9faa-6f74d5d5577a\" name=\"files[]\" multiple disabled\n",
              "        style=\"border:none\" />\n",
              "     <output id=\"result-58001838-7299-477f-9faa-6f74d5d5577a\">\n",
              "      Upload widget is only available when the cell has been executed in the\n",
              "      current browser session. Please rerun this cell to enable.\n",
              "      </output>\n",
              "      <script src=\"/nbextensions/google.colab/files.js\"></script> "
            ],
            "text/plain": [
              "<IPython.core.display.HTML object>"
            ]
          },
          "metadata": {
            "tags": []
          }
        },
        {
          "output_type": "stream",
          "text": [
            "Saving raw-data-laptops.xlsx to raw-data-laptops.xlsx\n"
          ],
          "name": "stdout"
        }
      ]
    },
    {
      "cell_type": "markdown",
      "metadata": {
        "id": "Ppwyoyakw-6f"
      },
      "source": [
        "# READ FILE"
      ]
    },
    {
      "cell_type": "code",
      "metadata": {
        "colab": {
          "base_uri": "https://localhost:8080/"
        },
        "id": "eYTR8UV1beWn",
        "outputId": "68467cc5-b32a-492a-b5d3-c7daf5f94c2f"
      },
      "source": [
        "import pandas as pd\n",
        "my_dic = pd.read_excel('raw-data-laptops.xlsx', index_col=0).to_dict()\n",
        "\n",
        "dataset = pd.DataFrame(data = my_dic)\n",
        "\n",
        "dataset['ram'] = dataset['RAM'].copy() # Creating a copy of RAM\n",
        "dataset['ram'].unique()\n",
        "\n",
        "print(dataset['ram'])\n"
      ],
      "execution_count": null,
      "outputs": [
        {
          "output_type": "stream",
          "text": [
            "0       16GB LPDDR4X\n",
            "1        8GB LPDDR4X\n",
            "2       16GB LPDDR4X\n",
            "3        8GB LPDDR4X\n",
            "4        8GB LPDDR4X\n",
            "            ...     \n",
            "1009       4GB RAM\\n\n",
            "1010          16GB\\n\n",
            "1011           8GB\\n\n",
            "1012           8GB\\n\n",
            "1013           8GB\\n\n",
            "Name: ram, Length: 1014, dtype: object\n"
          ],
          "name": "stdout"
        }
      ]
    },
    {
      "cell_type": "markdown",
      "metadata": {
        "id": "m4zaB3ZcxBwC"
      },
      "source": [
        "# RAM"
      ]
    },
    {
      "cell_type": "code",
      "metadata": {
        "colab": {
          "base_uri": "https://localhost:8080/"
        },
        "id": "-dneQvjYgGOm",
        "outputId": "e701d970-6603-4891-f05a-b27c9fc2376f"
      },
      "source": [
        "ram_in_gb = []\n",
        "for i in dataset['ram']:\n",
        "  if('64' in i):\n",
        "    ram_in_gb.append('64')\n",
        "  elif('32' in i): # 32GB RAM\n",
        "    ram_in_gb.append('32')\n",
        "  elif('16' in i): # 16GB RAM\n",
        "    ram_in_gb.append('16')\n",
        "  elif('8' in i): # 8GB RAM\n",
        "    ram_in_gb.append('8')\n",
        "  elif('6' in i): # 6GB RAM\n",
        "    ram_in_gb.append('6')\n",
        "  elif('4' in i): # 4GB RAM\n",
        "    ram_in_gb.append('4')\n",
        "dataset['ram_in_gb'] = ram_in_gb\n",
        "print(len(ram_in_gb))\n",
        "dataset['ram_in_gb']"
      ],
      "execution_count": null,
      "outputs": [
        {
          "output_type": "stream",
          "text": [
            "1014\n"
          ],
          "name": "stdout"
        },
        {
          "output_type": "execute_result",
          "data": {
            "text/plain": [
              "0       16\n",
              "1        8\n",
              "2       16\n",
              "3        8\n",
              "4        8\n",
              "        ..\n",
              "1009     4\n",
              "1010    16\n",
              "1011     8\n",
              "1012     8\n",
              "1013     8\n",
              "Name: ram_in_gb, Length: 1014, dtype: object"
            ]
          },
          "metadata": {
            "tags": []
          },
          "execution_count": 107
        }
      ]
    },
    {
      "cell_type": "markdown",
      "metadata": {
        "id": "KRBVseKzzaMe"
      },
      "source": [
        "# PROCESSOR"
      ]
    },
    {
      "cell_type": "code",
      "metadata": {
        "colab": {
          "base_uri": "https://localhost:8080/"
        },
        "id": "uSCbUjmqzh3z",
        "outputId": "353458ac-0d85-4d3c-d891-1f81eb644656"
      },
      "source": [
        "dataset['processor'] = dataset['Processor'].copy() # Creating a copy of Processor\n",
        "dataset['processor'] = dataset['processor'].apply(lambda x:x.replace(\"\\n\", \"\").replace(\"\\t\", \"\"))\n",
        "gen = dataset['processor'].apply(lambda x:x.replace(\"Intel Core\", \"\"))\n",
        "dataset['processor'].unique()"
      ],
      "execution_count": null,
      "outputs": [
        {
          "output_type": "execute_result",
          "data": {
            "text/plain": [
              "array(['Intel Core i7-1165G7', 'Intel Core i5-1135G7',\n",
              "       'Intel Core  i7-1165G7', 'Intel Core i7-10870H ',\n",
              "       'Intel Core I7-10870H', 'AMD Ryzen 7-5800H',\n",
              "       'Intel Core i5-10210U ', 'Intel Core i7-10750H',\n",
              "       'Intel Core i5-10210U', 'Intel Celeron N4020',\n",
              "       'Intel Core i5-1035G1', 'AMD Ryzen 7-4800HS',\n",
              "       'Intel Core i5-9300H', 'Intel Core i5-10300H',\n",
              "       'Intel Core i5-10200H', 'Ryzen 7 3750H ', 'Intel Core i3-1115G ',\n",
              "       'Intel Core i5-1135G7 ', 'Intel Core i3-10110U ',\n",
              "       'Intel Core i7-1165G7 ', 'Intel Core i3-1005G1 ',\n",
              "       'Intel Pentium Gold N6405U ', 'Intel Core i7-1065G7 ',\n",
              "       'Intel Core  i3-1115G4', 'AMD Ryzen 3-3250U',\n",
              "       'Intel Core  i5-1035G1', 'Intel Core i7-10750H ',\n",
              "       'Intel Core i3-1115G4 ', 'Intel Core i5-11300H ',\n",
              "       'AMD Ryzen 5-5600H ', 'Intel Core i3-10110U',\n",
              "       'Intel core i3-1005G1', 'Ryzen 7-3700 ', 'Intel Core i7 1065G7',\n",
              "       'Intel Core  i5-1035G7  ', 'Intel Core i5-10210U  ',\n",
              "       'Intel Core i5 1035G1  ', 'Intel Core i7-10510U',\n",
              "       'Intel Core i7-10710U ', 'Intel Core i5-1035G1 ',\n",
              "       'Intel Core i5 10210U ', 'Intel Core i5 10210U',\n",
              "       'Intel Core i5 1.6GHz up to 3.6GHz\\xa0  ',\n",
              "       'ntel Core i5 1.4GHz up to 3.9GHz\\xa0  ', 'Intel Core i7-10510U ',\n",
              "       'Intel Core i7-1185G7', 'Core i5 7200U ', 'Intel Core i7-9850H ',\n",
              "       'AMD Ryzen 5 3500U ', 'Intel Core i7 8750H   ',\n",
              "       'Intel Core i5 8300H  ', 'Intel Core i5 9300H ',\n",
              "       'Intel Core i7 8650U      ',\n",
              "       'Intel Core i5 (1.6 Ghz upto 3.60 GHz)\\xa0  ',\n",
              "       'Intel Core i7 6-core, 2.60 GHz\\xa0  ', 'Core i7 7700HQ ',\n",
              "       'Intel  Core i7 9750H  ', 'Core i7 8750H ', 'Core i5 8300H ',\n",
              "       'Intel Core i7-9750H', 'Intel Core i7 8750H  ',\n",
              "       'Intel Core i7 8850H ', 'Intel Core i7 9750H ',\n",
              "       'Intel Core i7 8750H ', 'Intel Core i3 10110U', 'Core i3 10110U  ',\n",
              "       'Intel Pentium N4200 ', 'Intel Pentium N5000 ',\n",
              "       'Intel Celeron N4000 ', 'Intel Pentium-N5000',\n",
              "       'AMD Ryzen 5 3500U  ', 'Intel Core i7-1065G7',\n",
              "       'AMD  Ryzen 5 3500U  ', 'Intel Pentium N5000', 'Ryzen 5 2500U ',\n",
              "       'AMD Ryzen 7 3700U  ', 'Pentium N5000 ', 'AMD Ryzen 7 3700U ',\n",
              "       'Intel Celeron N4000', 'Intel Pen-4417U', 'Ryzen 3 2200U',\n",
              "       'Core i5 8250U ', 'Intel Core i3-1005G1U', 'Intel Celeron N5000',\n",
              "       'Intel Core I5-10300H', 'Intel Core I7-10750H',\n",
              "       'Intel Core I5-10210U', 'Intel Core i3-1005G1  ',\n",
              "       'Intel Core i5-9300H ', 'Intel Core I7-10510U',\n",
              "       'Intel Core i9-10980HK', 'Intel Core I7-9750H',\n",
              "       'Intel Core i5 9300H  ', 'Core i5 8350U ', 'Core i7 7500U ',\n",
              "       'Core i7 8550U ', 'Intel Core i3-1005G1', 'Inter Core i3 8145U ',\n",
              "       'Pentium 5405U  ', 'Core i3 7130U ', 'Intel Core i5-8250U  ',\n",
              "       'Intel Core i7 8550U  ', 'Intel Core i5-8250U',\n",
              "       'Intel Core i3 8130U    ', 'Intel Core i7 8550U   ',\n",
              "       'Intel Core i5 8250U     ', 'Intel Pentium N4417U   ',\n",
              "       'AMD Ryzen 3 3200U ', 'Core i5 8279U 2.4GHz ',\n",
              "       'Intel Core i7 10510U', 'AMD Ryzen 3 3200U', 'AMD Ryzen 5 3500U',\n",
              "       'Intel Core i5-8365U  ', 'Intel Core i5 Quad-core 2.4 GHz',\n",
              "       'AMD Ryzen 3-3200U ', 'AMD Ryzen 3 3200U  ',\n",
              "       'Intel Core i7 8665U   ', 'Intel Core i7 8650U    ',\n",
              "       'Intel Core i7-10510U  ', 'Intel Core i5-1035G1  ',\n",
              "       'Intel Core i9 8-core, 2.3 GHz', 'Intel Core i7-8750H ',\n",
              "       'AMD Ryzen R3-3200U', 'AMD Ryzen 7 4800H',\n",
              "       'Intel Core i3 10110U  ', 'Intel Core i5 10210U  ',\n",
              "       'Intel Core i7-8665U  ', 'AMD Ryzen 3-3200U   ',\n",
              "       'Intel Core i5 1035G1', 'Intel Core i7-9750H ',\n",
              "       'Intel Core i5 Quad-core 2.4 GHz GHz', 'Intel Core i9-9980HK ',\n",
              "       'Intel Core i3-10110U  ', 'AMD Ryzen R5-3500U',\n",
              "       'AMD Ryzen 3-3200U', 'Core i5-1035G1  ',\n",
              "       'Intel Core i9 8-core, 2.3 GHz\\xa0  ', 'Intel Core i5-1021U ',\n",
              "       'Intel Pentium N5000   ', 'Intel Core i7-9750H  ',\n",
              "       'Intel Core i5 1035G7', 'Intel Core  i3-1005G1U',\n",
              "       'Intel Pentium Silver N5000 ', 'Intel Pentium Silver N5000',\n",
              "       'Intel Core i5-1035G1U', 'Intel Core  i5-10210U ',\n",
              "       'AMD Ryzen 5 Pro 2500U', 'Core i5 - 9300H ', 'AMD Ryzen 7 3750H ',\n",
              "       'Intel Core i5 8265U', 'Intel Core i5 1135G7',\n",
              "       'Intel Core i7 10870H', 'AMD Ryzen 5 5500U',\n",
              "       'Intel Core i3-1115G4', 'Intel Core i7 1185G7',\n",
              "       'Intel Core i7 10750H ', 'intel i7 10510U', 'Intel Core i7 10750H',\n",
              "       'Intel Core i5 1135G7 ', 'Intel Core i7 1165G7',\n",
              "       'Intel Core i5 10300H', 'Apple M1', 'Intel Core i3 1005G1',\n",
              "       'intel i5 10210U', 'AMD R7 3700U', 'Intel Core i3 1115G4',\n",
              "       'AMD Ryzen™ 5 3500U', 'AMD R7 4800HS', 'AMD Ryzen 9 5900HX',\n",
              "       'AMD Ryzen 7 5800H', 'AMD R7 5800H', 'Intel 4425Y',\n",
              "       'AMD Ryzen 5 4600H', 'Intel Core i5 10200H',\n",
              "       'Intel Core i7 10870H/', 'Intel Core i5 10310U',\n",
              "       'Intel Core i7 1165G', 'Intel Core M3', 'AMD R5 3500U',\n",
              "       'Intel Core i3 1115G4 ', 'Intel Core i5 1135G1',\n",
              "       'Intel Pentium N5030', 'AMD R7 5700U', 'Intel Core i5 1.1Ghz',\n",
              "       'Intel Core i5 9300H', 'AMD R3 3250U', 'AMD Ryzen 5 5600H',\n",
              "       'AMD Ryzen 7 5700U', 'AMD R5 4500U', 'Intel Celeron Pentium N5030',\n",
              "       'Intel Core i3 11155G4', 'Intel core i7 10750H',\n",
              "       'Intel Core i5 9300HF', 'AMD R5 4600H', 'Intel Core i5 1035G4',\n",
              "       'Intel Core i7 1075H', 'Ryzen 9 R9 4900HS', 'AMD R5 5500U',\n",
              "       'Intel Core i7 2.6Ghz', 'AMD R5 4680U', 'Intel Core i5 1.4Ghz',\n",
              "       'Intel Core i3 1005', 'Intel i7 10750H', 'AMD R7 4800H',\n",
              "       'Intel Core I9 10980HK', 'Intel Core i5 1.6Ghz',\n",
              "       'Intel Core i3 1.1Ghz', 'Intel Core i7 10810U',\n",
              "       'Intel Core i3 7020U', 'AMD Ryzen™ 3 3200U',\n",
              "       'Intel Core i7 10710U', 'Intel Core i7 9750H', 'Intel Core i7',\n",
              "       'Intel Core i7 10850H', 'AMD Ryzen5 3550H', 'Ryzen7 3750H',\n",
              "       'AMD R9 5900HS', 'AMD Ryzen 7 3750H', 'Intel Core i5 2.4Ghz',\n",
              "       'AMD Ryzen 5 4500U', 'Intel i5 10210U', 'Intel Core i7 1137H',\n",
              "       'AMD Ryzen 3 3250U', 'AMD Ryzen 3 4300U', 'AMD R3 4300U',\n",
              "       'AMD Ryzen 7 4900HS', 'Intel Core i7 8565U', 'AMD Ryzen™ 5 3580U',\n",
              "       'AMD Ryzen 7 4800HS', 'Intel Core i9 2.3Ghz',\n",
              "       'Intel Core i5 2.0Ghz', 'Microsoft SQ 2 ', 'Intel Core i7 8665U',\n",
              "       'Intel core i5 1035G1', 'Intel Core i7 10875H', 'AMD Ryzen7 3700U',\n",
              "       'Ryzen 7 R7 4800HS', 'Intel Core i9 10980HK',\n",
              "       'Intel Core i7 1167G7', 'AMD Ryzen R7 4800H', 'AMD R9 4900HS',\n",
              "       'Intel core i5 10300H', 'Intel Core Xeon W 10885M',\n",
              "       'Intel Pen N6405', 'AMD Ryzen 5 4600HS', 'AMD R7 4700U',\n",
              "       'Intel Core i7 i7 10870H', 'Intel Pen N5030',\n",
              "       'Intel Core i3 1135G4', 'Intel Core i7 10610U'], dtype=object)"
            ]
          },
          "metadata": {
            "tags": []
          },
          "execution_count": 114
        }
      ]
    },
    {
      "cell_type": "code",
      "metadata": {
        "colab": {
          "base_uri": "https://localhost:8080/"
        },
        "id": "MPIB85O20-nr",
        "outputId": "5ed48df1-2719-423d-ca10-112e029d549e"
      },
      "source": [
        "dataset['processor']"
      ],
      "execution_count": null,
      "outputs": [
        {
          "output_type": "execute_result",
          "data": {
            "text/plain": [
              "0        Intel Core i7-1165G7\n",
              "1        Intel Core i5-1135G7\n",
              "2       Intel Core  i7-1165G7\n",
              "3       Intel Core i7-10870H \n",
              "4        Intel Core I7-10870H\n",
              "                ...          \n",
              "1009     Intel Core i3-1115G4\n",
              "1010     Intel Core i7 10510U\n",
              "1011     Intel Core i5 10210U\n",
              "1012     Intel Core i5 10210U\n",
              "1013             AMD R5 4600H\n",
              "Name: processor, Length: 1014, dtype: object"
            ]
          },
          "metadata": {
            "tags": []
          },
          "execution_count": 115
        }
      ]
    },
    {
      "cell_type": "code",
      "metadata": {
        "colab": {
          "base_uri": "https://localhost:8080/"
        },
        "id": "4HzAlExS2L3D",
        "outputId": "f5db3745-ed54-4abd-927c-97dae08743a3"
      },
      "source": [
        "gen"
      ],
      "execution_count": null,
      "outputs": [
        {
          "output_type": "execute_result",
          "data": {
            "text/plain": [
              "0          i7-1165G7\n",
              "1          i5-1135G7\n",
              "2          i7-1165G7\n",
              "3         i7-10870H \n",
              "4          I7-10870H\n",
              "            ...     \n",
              "1009       i3-1115G4\n",
              "1010       i7 10510U\n",
              "1011       i5 10210U\n",
              "1012       i5 10210U\n",
              "1013    AMD R5 4600H\n",
              "Name: processor, Length: 1014, dtype: object"
            ]
          },
          "metadata": {
            "tags": []
          },
          "execution_count": 116
        }
      ]
    },
    {
      "cell_type": "markdown",
      "metadata": {
        "id": "0SPLpIMs_7Wh"
      },
      "source": [
        "# Processor Type\n"
      ]
    },
    {
      "cell_type": "code",
      "metadata": {
        "colab": {
          "base_uri": "https://localhost:8080/"
        },
        "id": "fWMidt2H_53v",
        "outputId": "cf3d27c3-80c6-465b-a332-79aa5819cf0a"
      },
      "source": [
        "processor_type = []\n",
        "for i in (gen):\n",
        "    processor_type.append(\" \".join(i.split()))\n",
        "processor_type\n",
        "dataset['processor_type'] = processor_type\n",
        "print(len(processor_type))\n",
        "dataset['processor_type']"
      ],
      "execution_count": null,
      "outputs": [
        {
          "output_type": "stream",
          "text": [
            "1014\n"
          ],
          "name": "stdout"
        },
        {
          "output_type": "execute_result",
          "data": {
            "text/plain": [
              "0          i7-1165G7\n",
              "1          i5-1135G7\n",
              "2          i7-1165G7\n",
              "3          i7-10870H\n",
              "4          I7-10870H\n",
              "            ...     \n",
              "1009       i3-1115G4\n",
              "1010       i7 10510U\n",
              "1011       i5 10210U\n",
              "1012       i5 10210U\n",
              "1013    AMD R5 4600H\n",
              "Name: processor_type, Length: 1014, dtype: object"
            ]
          },
          "metadata": {
            "tags": []
          },
          "execution_count": 117
        }
      ]
    },
    {
      "cell_type": "markdown",
      "metadata": {
        "id": "vZ1lMGXW8xl4"
      },
      "source": [
        "# Processor name"
      ]
    },
    {
      "cell_type": "code",
      "metadata": {
        "colab": {
          "base_uri": "https://localhost:8080/"
        },
        "id": "0kb-khal8224",
        "outputId": "77032c34-3880-40c8-f4b2-56da8cc4fad1"
      },
      "source": [
        "processor_name = []\n",
        "for i in dataset['processor']:\n",
        "  if('Intel' in i): \n",
        "    processor_name.append('Intel')\n",
        "  elif('AMD' in i):\n",
        "    processor_name.append('AMD')\n",
        "  elif('Microsoft' in i):\n",
        "    processor_name.append('Microsoft')\n",
        "  elif('Apple' in i):\n",
        "    processor_name.append('Microsoft')\n",
        "  else:\n",
        "    processor_name.append('Intel')\n",
        "dataset['processor_name'] = processor_name\n",
        "print(len(processor_name))\n",
        "dataset['processor_name']"
      ],
      "execution_count": null,
      "outputs": [
        {
          "output_type": "stream",
          "text": [
            "1014\n"
          ],
          "name": "stdout"
        },
        {
          "output_type": "execute_result",
          "data": {
            "text/plain": [
              "0       Intel\n",
              "1       Intel\n",
              "2       Intel\n",
              "3       Intel\n",
              "4       Intel\n",
              "        ...  \n",
              "1009    Intel\n",
              "1010    Intel\n",
              "1011    Intel\n",
              "1012    Intel\n",
              "1013      AMD\n",
              "Name: processor_name, Length: 1014, dtype: object"
            ]
          },
          "metadata": {
            "tags": []
          },
          "execution_count": 118
        }
      ]
    },
    {
      "cell_type": "markdown",
      "metadata": {
        "id": "2YrB_b8x9xjq"
      },
      "source": [
        "# Storage"
      ]
    },
    {
      "cell_type": "code",
      "metadata": {
        "colab": {
          "base_uri": "https://localhost:8080/"
        },
        "id": "MkllLhJmN6wx",
        "outputId": "2cc9efe6-2474-4833-e299-017290452d4d"
      },
      "source": [
        "dataset['storage'] = dataset['Storage'].copy() # Creating a copy of Storage\n",
        "dataset['storage'].unique()"
      ],
      "execution_count": null,
      "outputs": [
        {
          "output_type": "execute_result",
          "data": {
            "text/plain": [
              "array(['256Gb SSD', '512GB SSD', '1TB SSD', '512GB SSD ',\n",
              "       '256Gb SSD + 1TB HDD\\n', '256GB SSD ', '256GB SSD', '1TB HDD',\n",
              "       '128GB SSD + 1TB HDD', '128GB SSD', '2TB HDD',\n",
              "       '256GB SSD + 1TB HDD\\n', '512GB HDD ', 0, '512G SSD ',\n",
              "       '512Gb SSD ', '512GB SSD + 1TB HDD', '256Gb SSD ', '512 GB SSD\\n',\n",
              "       '512 GB SSD', '128GB SSD ', '1TB HDD ', '1TB SDD ', '512GB SSD\\n',\n",
              "       '256GB SSD\\n', '256Gb SSD\\n', '1TB SSD\\n', '1TB SSD + 1TB HDD\\n',\n",
              "       '128GB SSD\\n', '1TB HDD\\n', ' 256GB SSD\\n', '2TB SSD\\n',\n",
              "       '1GB SSD\\n', '512GB SSD + 1TB HDD\\n', '64GB SSD\\n', '256 SSD\\n',\n",
              "       '256 GB SSD\\n', '2TB HDD\\n', 'SSD: 256GB\\n',\n",
              "       '1TB HDD + 128GB SSD\\n', '2562GB SSD\\n', '512 SSD\\n'], dtype=object)"
            ]
          },
          "metadata": {
            "tags": []
          },
          "execution_count": 119
        }
      ]
    },
    {
      "cell_type": "code",
      "metadata": {
        "colab": {
          "base_uri": "https://localhost:8080/"
        },
        "id": "ZOAB4K6NN-sQ",
        "outputId": "24bf0ecd-416f-4cc2-8b18-9a938bbd73aa"
      },
      "source": [
        "dataset['storage']"
      ],
      "execution_count": null,
      "outputs": [
        {
          "output_type": "execute_result",
          "data": {
            "text/plain": [
              "0         256Gb SSD\n",
              "1         512GB SSD\n",
              "2         512GB SSD\n",
              "3         512GB SSD\n",
              "4         512GB SSD\n",
              "           ...     \n",
              "1009    256GB SSD\\n\n",
              "1010    512GB SSD\\n\n",
              "1011    256GB SSD\\n\n",
              "1012    512GB SSD\\n\n",
              "1013    256GB SSD\\n\n",
              "Name: storage, Length: 1014, dtype: object"
            ]
          },
          "metadata": {
            "tags": []
          },
          "execution_count": 120
        }
      ]
    },
    {
      "cell_type": "code",
      "metadata": {
        "colab": {
          "base_uri": "https://localhost:8080/"
        },
        "id": "rGTga9QcOBbf",
        "outputId": "f9b988e3-2003-490c-e00d-6acd0cfe351c"
      },
      "source": [
        "\n",
        "disk_drive = []\n",
        "for y in dataset['storage']:\n",
        "    if('HDD' in str(y) and 'SSD' not in str(y)):   # If only HDD\n",
        "      disk_drive.append('HDD')\n",
        "    elif('SSD' in str(y) and 'HDD' not in str(y)): # If only SSD\n",
        "      disk_drive.append('SSD')\n",
        "    elif('+' in str(y)):     # If both HDD and SSD\n",
        "      disk_drive.append(\"Both\")\n",
        "    else:\n",
        "      disk_drive.append(\"SSD\")\n",
        "dataset['disk_drive'] = disk_drive\n",
        "print(len(disk_drive))\n",
        "dataset['disk_drive']"
      ],
      "execution_count": null,
      "outputs": [
        {
          "output_type": "stream",
          "text": [
            "1014\n"
          ],
          "name": "stdout"
        },
        {
          "output_type": "execute_result",
          "data": {
            "text/plain": [
              "0       SSD\n",
              "1       SSD\n",
              "2       SSD\n",
              "3       SSD\n",
              "4       SSD\n",
              "       ... \n",
              "1009    SSD\n",
              "1010    SSD\n",
              "1011    SSD\n",
              "1012    SSD\n",
              "1013    SSD\n",
              "Name: disk_drive, Length: 1014, dtype: object"
            ]
          },
          "metadata": {
            "tags": []
          },
          "execution_count": 121
        }
      ]
    },
    {
      "cell_type": "code",
      "metadata": {
        "colab": {
          "base_uri": "https://localhost:8080/"
        },
        "id": "0U0fPc-dWWjj",
        "outputId": "84f1c5e3-d18e-48b8-c0ed-869b64c0a7b1"
      },
      "source": [
        "storage_in_SSD = []\n",
        "for i in dataset['storage']:\n",
        "  if '+' not in str(i):\n",
        "    if 'SSD' not in str(i):\n",
        "      storage_in_SSD.append(\"0\")\n",
        "    elif 'SSD' in str(i):\n",
        "      if('512' in str(i) and 'TB' not in str(i) and 'HDD' not in str(i)): # Only 512GB SSD\n",
        "        storage_in_SSD.append('512')\n",
        "      elif('256' in str(i) and 'TB' not in str(i) and 'HDD' not in str(i)): # Only 256GB SSD\n",
        "        storage_in_SSD.append('256')\n",
        "      elif('128' in str(i) and 'TB' not in str(i) and 'HDD' not in str(i)): # Only 128GB SSD\n",
        "        storage_in_SSD.append('128')\n",
        "      elif('64' in str(i) and 'TB' not in str(i) and 'HDD' not in str(i)): # Only 64GB SSD\n",
        "        storage_in_SSD.append('64')\n",
        "      elif('1' in str(i) and '256' not in str(i) and '512' not in str(i) and 'HDD' not in str(i)): # Only 1TB SSD\n",
        "        storage_in_SSD.append('1000')\n",
        "      elif('2' in str(i) and '256' not in str(i) and '512' not in str(i) and 'HDD' not in str(i)): # Only 2TB SSD\n",
        "        storage_in_SSD.append('2000')\n",
        "  elif '+' in str(i):\n",
        "    x = str(i).split(\"+\")\n",
        "    for y in x:\n",
        "      if('SSD' in str(y)):\n",
        "        if('512' in str(y) and 'TB' not in str(y)): # Only 512GB SSD\n",
        "          storage_in_SSD.append('512')\n",
        "        elif('256' in str(y) and 'TB' not in str(y)): # Only 256GB SSD\n",
        "          storage_in_SSD.append('256')\n",
        "        elif('128' in str(y) and 'TB' not in str(y)): # Only 128GB SSD\n",
        "          storage_in_SSD.append('128')\n",
        "        elif('1' in str(y) and '256' not in str(y) and '512' not in str(y)): # Only 1TB SSD\n",
        "          storage_in_SSD.append('1000')\n",
        "        elif('2' in str(y) and '256' not in str(y) and '512' not in str(y)): # Only 2TB SSD\n",
        "          storage_in_SSD.append('2000')\n",
        "dataset['storage_in_SSD'] = storage_in_SSD\n",
        "print(len(storage_in_SSD))\n",
        "dataset['storage_in_SSD']"
      ],
      "execution_count": null,
      "outputs": [
        {
          "output_type": "stream",
          "text": [
            "1014\n"
          ],
          "name": "stdout"
        },
        {
          "output_type": "execute_result",
          "data": {
            "text/plain": [
              "0       256\n",
              "1       512\n",
              "2       512\n",
              "3       512\n",
              "4       512\n",
              "       ... \n",
              "1009    256\n",
              "1010    512\n",
              "1011    256\n",
              "1012    512\n",
              "1013    256\n",
              "Name: storage_in_SSD, Length: 1014, dtype: object"
            ]
          },
          "metadata": {
            "tags": []
          },
          "execution_count": 122
        }
      ]
    },
    {
      "cell_type": "code",
      "metadata": {
        "colab": {
          "base_uri": "https://localhost:8080/"
        },
        "id": "kZbPwNb4Dggs",
        "outputId": "1d203f99-e17f-4c62-f8bb-4442f7877c81"
      },
      "source": [
        "storage_in_HDD = []\n",
        "for i in dataset['storage']:\n",
        "  if '+' not in str(i):\n",
        "    if 'HDD' not in str(i):\n",
        "      storage_in_HDD.append(\"0\")\n",
        "    elif 'HDD' in str(i):\n",
        "      if('512' in str(i) and 'TB' not in str(i) and 'SSD' not in str(i)): # Only 512GB HDD\n",
        "        storage_in_HDD.append('512')\n",
        "      elif('256' in str(i) and 'TB' not in str(i) and 'SSD' not in str(i)): # Only 256GB HDD\n",
        "        storage_in_HDD.append('256')\n",
        "      elif('128' in str(i) and 'TB' not in str(i) and 'SSD' not in str(i)): # Only 128GB HDD\n",
        "        storage_in_HDD.append('128')\n",
        "      elif('64' in str(i) and 'TB' not in str(i) and 'SSD' not in str(i)): # Only 64GB HDD\n",
        "        storage_in_HDD.append('64')\n",
        "      elif('1' in str(i) and '256' not in str(i) and '512' not in str(i) and 'SSD' not in str(i)): # Only 1TB HDD\n",
        "        storage_in_HDD.append('1000')\n",
        "      elif('2' in str(i) and '256' not in str(i) and '512' not in str(i) and 'SSD' not in str(i)): # Only 2TB HDD\n",
        "        storage_in_HDD.append('2000')\n",
        "  elif '+' in i:\n",
        "    x = i.split(\"+\")\n",
        "    for y in x:\n",
        "      if('HDD' in str(y)):\n",
        "        if('512' in str(y) and 'TB' not in str(y)): # Only 512GB HDD\n",
        "          storage_in_HDD.append('512')\n",
        "        elif('256' in str(y) and 'TB' not in str(y)): # Only 256GB HDD\n",
        "          storage_in_HDD.append('256')\n",
        "        elif('128' in str(y) and 'TB' not in str(y)): # Only 128GB SSD or 128GB HDD\n",
        "          storage_in_HDD.append('128')\n",
        "        elif('1' in str(y) and '256' not in str(y) and '512' not in str(y)): # Only 1TB HDD\n",
        "          storage_in_HDD.append('1000')\n",
        "        elif('2' in str(y) and '256' not in str(y) and '512' not in str(y)): # Only 2TB HDD\n",
        "          storage_in_HDD.append('2000')\n",
        "dataset['storage_in_HDD'] = storage_in_HDD\n",
        "print(len(storage_in_HDD))\n",
        "dataset['storage_in_HDD']"
      ],
      "execution_count": null,
      "outputs": [
        {
          "output_type": "stream",
          "text": [
            "1014\n"
          ],
          "name": "stdout"
        },
        {
          "output_type": "execute_result",
          "data": {
            "text/plain": [
              "0       0\n",
              "1       0\n",
              "2       0\n",
              "3       0\n",
              "4       0\n",
              "       ..\n",
              "1009    0\n",
              "1010    0\n",
              "1011    0\n",
              "1012    0\n",
              "1013    0\n",
              "Name: storage_in_HDD, Length: 1014, dtype: object"
            ]
          },
          "metadata": {
            "tags": []
          },
          "execution_count": 123
        }
      ]
    },
    {
      "cell_type": "markdown",
      "metadata": {
        "id": "oVc5UlcDW7Hg"
      },
      "source": [
        "# Display"
      ]
    },
    {
      "cell_type": "code",
      "metadata": {
        "colab": {
          "base_uri": "https://localhost:8080/"
        },
        "id": "-go2dmljW3zD",
        "outputId": "e83ab114-3edc-4c30-e02f-6f9cd3fa2f5c"
      },
      "source": [
        "dataset['display'] = dataset['Display'].copy() # Creating a copy of Display\n",
        "dataset['display'].unique()"
      ],
      "execution_count": null,
      "outputs": [
        {
          "output_type": "execute_result",
          "data": {
            "text/plain": [
              "array(['17', '16', '14', '15.6', 15.6, 15, '17.3', '13.3', '14.5', 14,\n",
              "       13.3, 13, '18.4', '11.6', 17, '12.5', 17.3, 15.4,\n",
              "       '15.6 inch FHD\\n', '14.0 inch FHD\\n', '14 inch FHD\\n',\n",
              "       '15.6 inch FHD 144Hz\\n', '15.6 inch Full HD\\n',\n",
              "       '14 inch FHD Cảm ứng\\n', '13.5 inch QHD IPS\\n',\n",
              "       '17.3 inch FHD 144Hz\\n', '13.3 inch FHD\\n',\n",
              "       '13.3 inch Retina IPS\\n', '15.6 inch HD\\n',\n",
              "       '14 inch WQHD cảm ứng\\n', '17.3 inch FHD 144hz\\n', '14 inch 2k\\n',\n",
              "       '15.6 inch 4k\\n', '15.6 inch FHD 144hz\\n', '14 inch HD\\n',\n",
              "       '16 inch FHD 165Hz\\n', '10.5 inch FHD\\n', '15.6 inch FHD 60hz\\n',\n",
              "       '15.6 FHD 144hz\\n', '17 inch IPS\\n', '13.4 inch FHD (16:10)\\n',\n",
              "       '17.3 inch FHD 165hz\\n', '14 inch FHD Touch\\n',\n",
              "       '15.6 inch FHD 240Hz\\n', '12.3 inch\\n', '12.4 inch cảm ứng\\n',\n",
              "       '14 WQHD\\n', '15.6 inch FHD 1650hz\\n', '16-inch\\n',\n",
              "       '15.6 inch FHD 300Hz\\n', '13.5 inc\\n', '15.6 inch FHD 120Hz\\n',\n",
              "       '13.3 inch 4k\\n', '13.7 inch FHD 144hz\\n', '17.3 inch FHD 240Hz\\n',\n",
              "       '15 inch cảm ứng\\n', '15.6inch HD\\n', '13.3 inch\\n',\n",
              "       '14inch FHD\\n', '14 inch FHD cảm ứng\\n', '12.3 inch PixelSense\\n',\n",
              "       '15.6 inch FHD IPS\\n', '13.5 inch\\n', '15.6 inch FHD 100%RGB\\n',\n",
              "       '15.6inch FHD 120Hz\\n', '17 inch 1920 x1200\\n', '15.6 FHD 144Hz\\n',\n",
              "       '14.0 inch HD\\n', '14 inch\\n', '13.3 FHD Cảm ứng\\n',\n",
              "       '14 inch WQHD 2k\\n', ' 15 inch\\n', '13.5 inch cảm ứng\\n',\n",
              "       '15.6 inch FHD Cảm ứng\\n', '15.6 inch 4k cảm ứng\\n', '16 inch',\n",
              "       '15.4 inch\\n', '13.3 FHD Touch\\n', '15 inch\\n',\n",
              "       '13 inch cảm ứng\\n', '17.3 inch UHD\\n', nan, '15.6 FHD\\n',\n",
              "       '17.3 inch FHD\\n', '15.6 inch FHD 300hz\\n', '17 IPS\\n',\n",
              "       '15.6inch FHD\\n', '14 inch FHD 120hz\\n', '15.6 inch UHD\\n',\n",
              "       '17.3 FHD 120Ghz\\n', '13.3 QHD\\n', '17.3 FHD\\n',\n",
              "       '15.6 inch UHD 4K cảm ứng\\n', '15.6 inch FHD cảm ứng\\n',\n",
              "       '15.6 inch FHD 240hz\\n', '14.0 inch FHD (1920 x 1080)\\n',\n",
              "       '13.3 inch FHD cảm ứng\\n', '14 inch IPS\\n', '15 inch FHD\\n',\n",
              "       '17.3 FHD 120Hz\\n', '13.3 FHD UWVA (1900 x 1080), xoay 360o',\n",
              "       '15.6 inch FHD'], dtype=object)"
            ]
          },
          "metadata": {
            "tags": []
          },
          "execution_count": 124
        }
      ]
    },
    {
      "cell_type": "code",
      "metadata": {
        "colab": {
          "base_uri": "https://localhost:8080/"
        },
        "id": "WNGjgWYbW-Td",
        "outputId": "5d22b2b2-bf06-4df7-a9f2-5d44ed32fffb"
      },
      "source": [
        "dataset['display']"
      ],
      "execution_count": null,
      "outputs": [
        {
          "output_type": "execute_result",
          "data": {
            "text/plain": [
              "0                    17\n",
              "1                    16\n",
              "2                    14\n",
              "3                  15.6\n",
              "4                  15.6\n",
              "             ...       \n",
              "1009      14 inch FHD\\n\n",
              "1010    15.6 inch FHD\\n\n",
              "1011      14 inch FHD\\n\n",
              "1012    13.3 inch FHD\\n\n",
              "1013      15.6 inch FHD\n",
              "Name: display, Length: 1014, dtype: object"
            ]
          },
          "metadata": {
            "tags": []
          },
          "execution_count": 125
        }
      ]
    },
    {
      "cell_type": "code",
      "metadata": {
        "colab": {
          "base_uri": "https://localhost:8080/"
        },
        "id": "ZcdMc4QHXAsn",
        "outputId": "e0bcc724-6350-4527-a8ab-4b5b279449ab"
      },
      "source": [
        "size_in_inches = []\n",
        "for i in dataset['display']:\n",
        "  if('18.4' in str(i)):  \n",
        "    size_in_inches.append('18.4')\n",
        "  elif('17.3' in str(i)): \n",
        "    size_in_inches.append('17.3')\n",
        "  elif('17' in str(i) or '17.0' in str(i)): \n",
        "    size_in_inches.append('17')\n",
        "  elif('16' in str(i) or '16.0'):   \n",
        "    size_in_inches.append('16')\n",
        "  elif('15.6' in str(i)):   \n",
        "    size_in_inches.append('15.6')\n",
        "  elif('15' in str(i) or '15.0' in str(i)):    \n",
        "    size_in_inches.append('15')\n",
        "  elif('14.5' in str(i)):  \n",
        "    size_in_inches.append('14.5')\n",
        "  elif('14' in str(i) or '14.0' in str(i)):  \n",
        "    size_in_inches.append('14')\n",
        "  elif('13.7' in str(i)):    \n",
        "    size_in_inches.append('13.7')\n",
        "  elif('13.5' in str(i)): \n",
        "    size_in_inches.append('13.5')\n",
        "  elif('13.4' in str(i)):    \n",
        "    size_in_inches.append('13.4')\n",
        "  elif('13.3' in str(i)):  \n",
        "    size_in_inches.append('13.3')\n",
        "  elif('13' in str(i) or '13.0' in str(i)):    \n",
        "    size_in_inches.append('13')\n",
        "  elif('12.5' in str(i)):   \n",
        "    size_in_inches.append('12.5')\n",
        "  elif('12.4' in str(i)):   \n",
        "    size_in_inches.append('12.4')\n",
        "  elif('12.3' in str(i)):   \n",
        "    size_in_inches.append('12.3')\n",
        "  elif('11' in str(i) or '11.0' in str(i) or '11.6' in str(i)):  \n",
        "    size_in_inches.append('11.6')\n",
        "  elif('10' in str(i) or '10.0' in str(i) or '10.5' in str(i)):  \n",
        "    size_in_inches.append('10.5')\n",
        "dataset['size_in_inches'] = size_in_inches\n",
        "print(len(size_in_inches))\n",
        "dataset['size_in_inches']"
      ],
      "execution_count": null,
      "outputs": [
        {
          "output_type": "stream",
          "text": [
            "1014\n"
          ],
          "name": "stdout"
        },
        {
          "output_type": "execute_result",
          "data": {
            "text/plain": [
              "0       17\n",
              "1       16\n",
              "2       16\n",
              "3       16\n",
              "4       16\n",
              "        ..\n",
              "1009    16\n",
              "1010    16\n",
              "1011    16\n",
              "1012    16\n",
              "1013    16\n",
              "Name: size_in_inches, Length: 1014, dtype: object"
            ]
          },
          "metadata": {
            "tags": []
          },
          "execution_count": 126
        }
      ]
    },
    {
      "cell_type": "markdown",
      "metadata": {
        "id": "G7fGNrNgZ6sx"
      },
      "source": [
        "# Decriptions"
      ]
    },
    {
      "cell_type": "code",
      "metadata": {
        "colab": {
          "base_uri": "https://localhost:8080/"
        },
        "id": "4Z2JoWwqZ87C",
        "outputId": "0cd53986-6a4f-44b5-efcb-12f34cd590dd"
      },
      "source": [
        "dataset['description'] = dataset['Description'].copy() # Creating a copy of Description\n",
        "dataset['description'].unique # All the laptops are unique\n",
        "# dataset['description']"
      ],
      "execution_count": null,
      "outputs": [
        {
          "output_type": "execute_result",
          "data": {
            "text/plain": [
              "<bound method Series.unique of 0       Laptop LG Gram 2021 17ZD90P-G.AX71A5 Trắng (Cp...\n",
              "1       Laptop LG Gram 2021 16ZD90P-G.AX54A5 Trắng(Cpu...\n",
              "2       Laptop LG Gram 2021 14Z90P-G.AH75A5 Đen (Cpu i...\n",
              "3       Laptop Asus Gaming ROG Strix G512-IHN281T Đen ...\n",
              "4       Laptop Gaming ASUS TUF F15 FX506LU-HN138T Gray...\n",
              "                              ...                        \n",
              "1009    Laptop HP Pavilion 14-dv0005TU (2D7A1PA) ( i3-...\n",
              "1010    Laptop HP Zbook Fury 15 G7 (26F74AV) (Core i7 ...\n",
              "1011    Laptop Lenovo Thinkpad E14 (20RAS0KX00) (i5 10...\n",
              "1012    Laptop Lenovo Thinkpad X13 (20T2S01B00) (i5 10...\n",
              "1013    Laptop Lenovo Gaming 3-15ARH05 (82EY00JXVN) (R...\n",
              "Name: description, Length: 1014, dtype: object>"
            ]
          },
          "metadata": {
            "tags": []
          },
          "execution_count": 127
        }
      ]
    },
    {
      "cell_type": "code",
      "metadata": {
        "colab": {
          "base_uri": "https://localhost:8080/"
        },
        "id": "qRG2pp0aZ_fr",
        "outputId": "7bd5ec7b-9f13-4207-94d5-e32329a32d9f"
      },
      "source": [
        "company = []\n",
        "for i in dataset['description']:\n",
        "  if('Dell' in i or 'DELL'):           \n",
        "    company.append('Dell')\n",
        "  elif('Asus' in i or 'ASUS' in i):         \n",
        "    company.append('Asus')\n",
        "  elif('Lenovo' in i or 'LENOVO'):        \n",
        "    company.append('Lenovo')\n",
        "  elif('Acer' in i or 'ACER'):         \n",
        "    company.append('Acer')\n",
        "  elif('HP' in i):           \n",
        "    company.append('HP')\n",
        "  elif('LG' in i): \n",
        "    company.append('LG')\n",
        "  elif('MSI' in i):          \n",
        "    company.append('MSI')\n",
        "  elif('Avita' in i or 'AVITA' in i): \n",
        "    company.append('Avita')\n",
        "  elif('Microsoft' in i or 'Surface' or 'MICROSOFT'): \n",
        "    company.append('Microsoft')\n",
        "  elif('Apple' in i):        \n",
        "    company.append('Apple')\n",
        "dataset['company'] = company\n",
        "print(len(company))\n",
        "dataset['company']"
      ],
      "execution_count": null,
      "outputs": [
        {
          "output_type": "stream",
          "text": [
            "1014\n"
          ],
          "name": "stdout"
        },
        {
          "output_type": "execute_result",
          "data": {
            "text/plain": [
              "0              LG\n",
              "1              LG\n",
              "2              LG\n",
              "3            Asus\n",
              "4       Microsoft\n",
              "          ...    \n",
              "1009           HP\n",
              "1010           HP\n",
              "1011       Lenovo\n",
              "1012       Lenovo\n",
              "1013       Lenovo\n",
              "Name: company, Length: 1014, dtype: object"
            ]
          },
          "metadata": {
            "tags": []
          },
          "execution_count": 129
        }
      ]
    },
    {
      "cell_type": "markdown",
      "metadata": {
        "id": "ecHYPDvhaqVB"
      },
      "source": [
        "# Graphic Cards"
      ]
    },
    {
      "cell_type": "code",
      "metadata": {
        "colab": {
          "base_uri": "https://localhost:8080/"
        },
        "id": "Oj9va_DFazjD",
        "outputId": "c6cd2a22-e4e3-45f0-deb6-d24ea37a3dd7"
      },
      "source": [
        "dataset['card'] = dataset['Card'].copy() # Creating a copy of Description\n",
        "card = dataset['card'].apply(lambda x:x.replace(\"NVIDIA \", \"\").replace(\"AMD \", \"\").replace(\"Intel \", \"\").replace(\"Nvidia \", \"\").replace(\"Radeon \", \"\").replace(\"INvidia \", \"\"))\n",
        "dataset['card'].unique # All the laptops are unique\n",
        "# dataset['description']"
      ],
      "execution_count": null,
      "outputs": [
        {
          "output_type": "execute_result",
          "data": {
            "text/plain": [
              "<bound method Series.unique of 0                  Intel Iris Xe Graphics  \n",
              "1                  Intel Iris Xe Graphics  \n",
              "2                  Intel Iris Xe Graphics  \n",
              "3       NVIDIA GeForce GTX 1650Ti 4GB GDDR6\n",
              "4       NVIDIA Geforce GTX 1660Ti 6GB GDDR6\n",
              "                       ...                 \n",
              "1009                              Onboard\\n\n",
              "1010                     Quadro T1000 4GB\\n\n",
              "1011                              Onboard\\n\n",
              "1012                              Onboard\\n\n",
              "1013                           GTX1650 4G\\n\n",
              "Name: card, Length: 1014, dtype: object>"
            ]
          },
          "metadata": {
            "tags": []
          },
          "execution_count": 130
        }
      ]
    },
    {
      "cell_type": "code",
      "metadata": {
        "colab": {
          "base_uri": "https://localhost:8080/"
        },
        "id": "3QZmenBneA7X",
        "outputId": "feb5c83b-d5e3-442e-8e3a-1cf8c0accc95"
      },
      "source": [
        "card"
      ],
      "execution_count": null,
      "outputs": [
        {
          "output_type": "execute_result",
          "data": {
            "text/plain": [
              "0                 Iris Xe Graphics  \n",
              "1                 Iris Xe Graphics  \n",
              "2                 Iris Xe Graphics  \n",
              "3       GeForce GTX 1650Ti 4GB GDDR6\n",
              "4       Geforce GTX 1660Ti 6GB GDDR6\n",
              "                    ...             \n",
              "1009                       Onboard\\n\n",
              "1010              Quadro T1000 4GB\\n\n",
              "1011                       Onboard\\n\n",
              "1012                       Onboard\\n\n",
              "1013                    GTX1650 4G\\n\n",
              "Name: card, Length: 1014, dtype: object"
            ]
          },
          "metadata": {
            "tags": []
          },
          "execution_count": 131
        }
      ]
    },
    {
      "cell_type": "code",
      "metadata": {
        "colab": {
          "base_uri": "https://localhost:8080/"
        },
        "id": "S_NbaJpSas8E",
        "outputId": "65e9c2ea-f651-4c8c-d27f-d4956b2818f5"
      },
      "source": [
        "graphic_card_company = []\n",
        "for i in dataset['card']:\n",
        "  if('Onboard' in i):\n",
        "    graphic_card_company.append('Onboard')\n",
        "  elif ('INVIDIA' in i or 'NVIDIA' in i):\n",
        "    graphic_card_company.append(\"NVIDIA\")\n",
        "  elif ('AMD' in i):\n",
        "    graphic_card_company.append(\"AMD\")\n",
        "  elif ('Intel' in i):\n",
        "    graphic_card_company.append(\"Intel\")\n",
        "  elif ('Intel' in i):\n",
        "    graphic_card_company.append(\"Intel\")\n",
        "  elif ('Radeon' in i):\n",
        "    graphic_card_company.append(\"Radeon\")\n",
        "  elif ('Radeon' not in i and 'Intel' not in i and 'AMD' not in i and 'INVIDIA' not in i and 'NVIDIA' not in i and 'Onboard' not in i):\n",
        "    graphic_card_company.append(\"Intel\")\n",
        "dataset['graphic_card_company'] = graphic_card_company\n",
        "print(len(graphic_card_company))\n",
        "dataset['graphic_card_company']"
      ],
      "execution_count": null,
      "outputs": [
        {
          "output_type": "stream",
          "text": [
            "1014\n"
          ],
          "name": "stdout"
        },
        {
          "output_type": "execute_result",
          "data": {
            "text/plain": [
              "0         Intel\n",
              "1         Intel\n",
              "2         Intel\n",
              "3        NVIDIA\n",
              "4        NVIDIA\n",
              "         ...   \n",
              "1009    Onboard\n",
              "1010      Intel\n",
              "1011    Onboard\n",
              "1012    Onboard\n",
              "1013      Intel\n",
              "Name: graphic_card_company, Length: 1014, dtype: object"
            ]
          },
          "metadata": {
            "tags": []
          },
          "execution_count": 132
        }
      ]
    },
    {
      "cell_type": "code",
      "metadata": {
        "colab": {
          "base_uri": "https://localhost:8080/"
        },
        "id": "ux3fp1vaB6Xn",
        "outputId": "8b3d02ad-eb28-484a-866c-fb19991af59c"
      },
      "source": [
        "graphic_card = []\n",
        "for i in card:\n",
        "  graphic_card.append(i)\n",
        "dataset['graphic_card'] = graphic_card\n",
        "print(len(graphic_card))\n",
        "dataset['graphic_card']"
      ],
      "execution_count": null,
      "outputs": [
        {
          "output_type": "stream",
          "text": [
            "1014\n"
          ],
          "name": "stdout"
        },
        {
          "output_type": "execute_result",
          "data": {
            "text/plain": [
              "0                 Iris Xe Graphics  \n",
              "1                 Iris Xe Graphics  \n",
              "2                 Iris Xe Graphics  \n",
              "3       GeForce GTX 1650Ti 4GB GDDR6\n",
              "4       Geforce GTX 1660Ti 6GB GDDR6\n",
              "                    ...             \n",
              "1009                       Onboard\\n\n",
              "1010              Quadro T1000 4GB\\n\n",
              "1011                       Onboard\\n\n",
              "1012                       Onboard\\n\n",
              "1013                    GTX1650 4G\\n\n",
              "Name: graphic_card, Length: 1014, dtype: object"
            ]
          },
          "metadata": {
            "tags": []
          },
          "execution_count": 133
        }
      ]
    },
    {
      "cell_type": "code",
      "metadata": {
        "colab": {
          "base_uri": "https://localhost:8080/",
          "height": 1000
        },
        "id": "FLlNolW9d8xu",
        "outputId": "62923502-6f0b-473d-9455-6dab7d2d41bc"
      },
      "source": [
        "dataset"
      ],
      "execution_count": null,
      "outputs": [
        {
          "output_type": "execute_result",
          "data": {
            "text/html": [
              "<div>\n",
              "<style scoped>\n",
              "    .dataframe tbody tr th:only-of-type {\n",
              "        vertical-align: middle;\n",
              "    }\n",
              "\n",
              "    .dataframe tbody tr th {\n",
              "        vertical-align: top;\n",
              "    }\n",
              "\n",
              "    .dataframe thead th {\n",
              "        text-align: right;\n",
              "    }\n",
              "</style>\n",
              "<table border=\"1\" class=\"dataframe\">\n",
              "  <thead>\n",
              "    <tr style=\"text-align: right;\">\n",
              "      <th></th>\n",
              "      <th>Description</th>\n",
              "      <th>Display</th>\n",
              "      <th>Storage</th>\n",
              "      <th>Card</th>\n",
              "      <th>Processor</th>\n",
              "      <th>RAM</th>\n",
              "      <th>Price</th>\n",
              "      <th>ram</th>\n",
              "      <th>ram_in_gb</th>\n",
              "      <th>processor</th>\n",
              "      <th>processor_type</th>\n",
              "      <th>processor_name</th>\n",
              "      <th>storage</th>\n",
              "      <th>disk_drive</th>\n",
              "      <th>storage_in_SSD</th>\n",
              "      <th>storage_in_HDD</th>\n",
              "      <th>display</th>\n",
              "      <th>size_in_inches</th>\n",
              "      <th>description</th>\n",
              "      <th>company</th>\n",
              "      <th>card</th>\n",
              "      <th>graphic_card_company</th>\n",
              "      <th>graphic_card</th>\n",
              "    </tr>\n",
              "  </thead>\n",
              "  <tbody>\n",
              "    <tr>\n",
              "      <th>0</th>\n",
              "      <td>Laptop LG Gram 2021 17ZD90P-G.AX71A5 Trắng (Cp...</td>\n",
              "      <td>17</td>\n",
              "      <td>256Gb SSD</td>\n",
              "      <td>Intel Iris Xe Graphics</td>\n",
              "      <td>Intel Core i7-1165G7</td>\n",
              "      <td>16GB LPDDR4X</td>\n",
              "      <td>44850000</td>\n",
              "      <td>16GB LPDDR4X</td>\n",
              "      <td>16</td>\n",
              "      <td>Intel Core i7-1165G7</td>\n",
              "      <td>i7-1165G7</td>\n",
              "      <td>Intel</td>\n",
              "      <td>256Gb SSD</td>\n",
              "      <td>SSD</td>\n",
              "      <td>256</td>\n",
              "      <td>0</td>\n",
              "      <td>17</td>\n",
              "      <td>17</td>\n",
              "      <td>Laptop LG Gram 2021 17ZD90P-G.AX71A5 Trắng (Cp...</td>\n",
              "      <td>LG</td>\n",
              "      <td>Intel Iris Xe Graphics</td>\n",
              "      <td>Intel</td>\n",
              "      <td>Iris Xe Graphics</td>\n",
              "    </tr>\n",
              "    <tr>\n",
              "      <th>1</th>\n",
              "      <td>Laptop LG Gram 2021 16ZD90P-G.AX54A5 Trắng(Cpu...</td>\n",
              "      <td>16</td>\n",
              "      <td>512GB SSD</td>\n",
              "      <td>Intel Iris Xe Graphics</td>\n",
              "      <td>Intel Core i5-1135G7</td>\n",
              "      <td>8GB LPDDR4X</td>\n",
              "      <td>39900000</td>\n",
              "      <td>8GB LPDDR4X</td>\n",
              "      <td>8</td>\n",
              "      <td>Intel Core i5-1135G7</td>\n",
              "      <td>i5-1135G7</td>\n",
              "      <td>Intel</td>\n",
              "      <td>512GB SSD</td>\n",
              "      <td>SSD</td>\n",
              "      <td>512</td>\n",
              "      <td>0</td>\n",
              "      <td>16</td>\n",
              "      <td>16</td>\n",
              "      <td>Laptop LG Gram 2021 16ZD90P-G.AX54A5 Trắng(Cpu...</td>\n",
              "      <td>LG</td>\n",
              "      <td>Intel Iris Xe Graphics</td>\n",
              "      <td>Intel</td>\n",
              "      <td>Iris Xe Graphics</td>\n",
              "    </tr>\n",
              "    <tr>\n",
              "      <th>2</th>\n",
              "      <td>Laptop LG Gram 2021 14Z90P-G.AH75A5 Đen (Cpu i...</td>\n",
              "      <td>14</td>\n",
              "      <td>512GB SSD</td>\n",
              "      <td>Intel Iris Xe Graphics</td>\n",
              "      <td>Intel Core  i7-1165G7</td>\n",
              "      <td>16GB LPDDR4X</td>\n",
              "      <td>47900000</td>\n",
              "      <td>16GB LPDDR4X</td>\n",
              "      <td>16</td>\n",
              "      <td>Intel Core  i7-1165G7</td>\n",
              "      <td>i7-1165G7</td>\n",
              "      <td>Intel</td>\n",
              "      <td>512GB SSD</td>\n",
              "      <td>SSD</td>\n",
              "      <td>512</td>\n",
              "      <td>0</td>\n",
              "      <td>14</td>\n",
              "      <td>16</td>\n",
              "      <td>Laptop LG Gram 2021 14Z90P-G.AH75A5 Đen (Cpu i...</td>\n",
              "      <td>LG</td>\n",
              "      <td>Intel Iris Xe Graphics</td>\n",
              "      <td>Intel</td>\n",
              "      <td>Iris Xe Graphics</td>\n",
              "    </tr>\n",
              "    <tr>\n",
              "      <th>3</th>\n",
              "      <td>Laptop Asus Gaming ROG Strix G512-IHN281T Đen ...</td>\n",
              "      <td>15.6</td>\n",
              "      <td>512GB SSD</td>\n",
              "      <td>NVIDIA GeForce GTX 1650Ti 4GB GDDR6</td>\n",
              "      <td>Intel Core i7-10870H</td>\n",
              "      <td>8GB LPDDR4X</td>\n",
              "      <td>27450000</td>\n",
              "      <td>8GB LPDDR4X</td>\n",
              "      <td>8</td>\n",
              "      <td>Intel Core i7-10870H</td>\n",
              "      <td>i7-10870H</td>\n",
              "      <td>Intel</td>\n",
              "      <td>512GB SSD</td>\n",
              "      <td>SSD</td>\n",
              "      <td>512</td>\n",
              "      <td>0</td>\n",
              "      <td>15.6</td>\n",
              "      <td>16</td>\n",
              "      <td>Laptop Asus Gaming ROG Strix G512-IHN281T Đen ...</td>\n",
              "      <td>Asus</td>\n",
              "      <td>NVIDIA GeForce GTX 1650Ti 4GB GDDR6</td>\n",
              "      <td>NVIDIA</td>\n",
              "      <td>GeForce GTX 1650Ti 4GB GDDR6</td>\n",
              "    </tr>\n",
              "    <tr>\n",
              "      <th>4</th>\n",
              "      <td>Laptop Gaming ASUS TUF F15 FX506LU-HN138T Gray...</td>\n",
              "      <td>15.6</td>\n",
              "      <td>512GB SSD</td>\n",
              "      <td>NVIDIA Geforce GTX 1660Ti 6GB GDDR6</td>\n",
              "      <td>Intel Core I7-10870H</td>\n",
              "      <td>8GB LPDDR4X</td>\n",
              "      <td>28590000</td>\n",
              "      <td>8GB LPDDR4X</td>\n",
              "      <td>8</td>\n",
              "      <td>Intel Core I7-10870H</td>\n",
              "      <td>I7-10870H</td>\n",
              "      <td>Intel</td>\n",
              "      <td>512GB SSD</td>\n",
              "      <td>SSD</td>\n",
              "      <td>512</td>\n",
              "      <td>0</td>\n",
              "      <td>15.6</td>\n",
              "      <td>16</td>\n",
              "      <td>Laptop Gaming ASUS TUF F15 FX506LU-HN138T Gray...</td>\n",
              "      <td>Microsoft</td>\n",
              "      <td>NVIDIA Geforce GTX 1660Ti 6GB GDDR6</td>\n",
              "      <td>NVIDIA</td>\n",
              "      <td>Geforce GTX 1660Ti 6GB GDDR6</td>\n",
              "    </tr>\n",
              "    <tr>\n",
              "      <th>...</th>\n",
              "      <td>...</td>\n",
              "      <td>...</td>\n",
              "      <td>...</td>\n",
              "      <td>...</td>\n",
              "      <td>...</td>\n",
              "      <td>...</td>\n",
              "      <td>...</td>\n",
              "      <td>...</td>\n",
              "      <td>...</td>\n",
              "      <td>...</td>\n",
              "      <td>...</td>\n",
              "      <td>...</td>\n",
              "      <td>...</td>\n",
              "      <td>...</td>\n",
              "      <td>...</td>\n",
              "      <td>...</td>\n",
              "      <td>...</td>\n",
              "      <td>...</td>\n",
              "      <td>...</td>\n",
              "      <td>...</td>\n",
              "      <td>...</td>\n",
              "      <td>...</td>\n",
              "      <td>...</td>\n",
              "    </tr>\n",
              "    <tr>\n",
              "      <th>1009</th>\n",
              "      <td>Laptop HP Pavilion 14-dv0005TU (2D7A1PA) ( i3-...</td>\n",
              "      <td>14 inch FHD\\n</td>\n",
              "      <td>256GB SSD\\n</td>\n",
              "      <td>Onboard\\n</td>\n",
              "      <td>Intel Core i3-1115G4\\n</td>\n",
              "      <td>4GB RAM\\n</td>\n",
              "      <td>13999000</td>\n",
              "      <td>4GB RAM\\n</td>\n",
              "      <td>4</td>\n",
              "      <td>Intel Core i3-1115G4</td>\n",
              "      <td>i3-1115G4</td>\n",
              "      <td>Intel</td>\n",
              "      <td>256GB SSD\\n</td>\n",
              "      <td>SSD</td>\n",
              "      <td>256</td>\n",
              "      <td>0</td>\n",
              "      <td>14 inch FHD\\n</td>\n",
              "      <td>16</td>\n",
              "      <td>Laptop HP Pavilion 14-dv0005TU (2D7A1PA) ( i3-...</td>\n",
              "      <td>HP</td>\n",
              "      <td>Onboard\\n</td>\n",
              "      <td>Onboard</td>\n",
              "      <td>Onboard\\n</td>\n",
              "    </tr>\n",
              "    <tr>\n",
              "      <th>1010</th>\n",
              "      <td>Laptop HP Zbook Fury 15 G7 (26F74AV) (Core i7 ...</td>\n",
              "      <td>15.6 inch FHD\\n</td>\n",
              "      <td>512GB SSD\\n</td>\n",
              "      <td>Quadro T1000 4GB\\n</td>\n",
              "      <td>Intel Core i7 10510U\\n</td>\n",
              "      <td>16GB\\n</td>\n",
              "      <td>54999000</td>\n",
              "      <td>16GB\\n</td>\n",
              "      <td>16</td>\n",
              "      <td>Intel Core i7 10510U</td>\n",
              "      <td>i7 10510U</td>\n",
              "      <td>Intel</td>\n",
              "      <td>512GB SSD\\n</td>\n",
              "      <td>SSD</td>\n",
              "      <td>512</td>\n",
              "      <td>0</td>\n",
              "      <td>15.6 inch FHD\\n</td>\n",
              "      <td>16</td>\n",
              "      <td>Laptop HP Zbook Fury 15 G7 (26F74AV) (Core i7 ...</td>\n",
              "      <td>HP</td>\n",
              "      <td>Quadro T1000 4GB\\n</td>\n",
              "      <td>Intel</td>\n",
              "      <td>Quadro T1000 4GB\\n</td>\n",
              "    </tr>\n",
              "    <tr>\n",
              "      <th>1011</th>\n",
              "      <td>Laptop Lenovo Thinkpad E14 (20RAS0KX00) (i5 10...</td>\n",
              "      <td>14 inch FHD\\n</td>\n",
              "      <td>256GB SSD\\n</td>\n",
              "      <td>Onboard\\n</td>\n",
              "      <td>Intel Core i5 10210U\\n</td>\n",
              "      <td>8GB\\n</td>\n",
              "      <td>16899000</td>\n",
              "      <td>8GB\\n</td>\n",
              "      <td>8</td>\n",
              "      <td>Intel Core i5 10210U</td>\n",
              "      <td>i5 10210U</td>\n",
              "      <td>Intel</td>\n",
              "      <td>256GB SSD\\n</td>\n",
              "      <td>SSD</td>\n",
              "      <td>256</td>\n",
              "      <td>0</td>\n",
              "      <td>14 inch FHD\\n</td>\n",
              "      <td>16</td>\n",
              "      <td>Laptop Lenovo Thinkpad E14 (20RAS0KX00) (i5 10...</td>\n",
              "      <td>Lenovo</td>\n",
              "      <td>Onboard\\n</td>\n",
              "      <td>Onboard</td>\n",
              "      <td>Onboard\\n</td>\n",
              "    </tr>\n",
              "    <tr>\n",
              "      <th>1012</th>\n",
              "      <td>Laptop Lenovo Thinkpad X13 (20T2S01B00) (i5 10...</td>\n",
              "      <td>13.3 inch FHD\\n</td>\n",
              "      <td>512GB SSD\\n</td>\n",
              "      <td>Onboard\\n</td>\n",
              "      <td>Intel Core i5 10210U\\n</td>\n",
              "      <td>8GB\\n</td>\n",
              "      <td>29499000</td>\n",
              "      <td>8GB\\n</td>\n",
              "      <td>8</td>\n",
              "      <td>Intel Core i5 10210U</td>\n",
              "      <td>i5 10210U</td>\n",
              "      <td>Intel</td>\n",
              "      <td>512GB SSD\\n</td>\n",
              "      <td>SSD</td>\n",
              "      <td>512</td>\n",
              "      <td>0</td>\n",
              "      <td>13.3 inch FHD\\n</td>\n",
              "      <td>16</td>\n",
              "      <td>Laptop Lenovo Thinkpad X13 (20T2S01B00) (i5 10...</td>\n",
              "      <td>Lenovo</td>\n",
              "      <td>Onboard\\n</td>\n",
              "      <td>Onboard</td>\n",
              "      <td>Onboard\\n</td>\n",
              "    </tr>\n",
              "    <tr>\n",
              "      <th>1013</th>\n",
              "      <td>Laptop Lenovo Gaming 3-15ARH05 (82EY00JXVN) (R...</td>\n",
              "      <td>15.6 inch FHD</td>\n",
              "      <td>256GB SSD\\n</td>\n",
              "      <td>GTX1650 4G\\n</td>\n",
              "      <td>AMD R5 4600H\\n</td>\n",
              "      <td>8GB\\n</td>\n",
              "      <td>17699000</td>\n",
              "      <td>8GB\\n</td>\n",
              "      <td>8</td>\n",
              "      <td>AMD R5 4600H</td>\n",
              "      <td>AMD R5 4600H</td>\n",
              "      <td>AMD</td>\n",
              "      <td>256GB SSD\\n</td>\n",
              "      <td>SSD</td>\n",
              "      <td>256</td>\n",
              "      <td>0</td>\n",
              "      <td>15.6 inch FHD</td>\n",
              "      <td>16</td>\n",
              "      <td>Laptop Lenovo Gaming 3-15ARH05 (82EY00JXVN) (R...</td>\n",
              "      <td>Lenovo</td>\n",
              "      <td>GTX1650 4G\\n</td>\n",
              "      <td>Intel</td>\n",
              "      <td>GTX1650 4G\\n</td>\n",
              "    </tr>\n",
              "  </tbody>\n",
              "</table>\n",
              "<p>1014 rows × 23 columns</p>\n",
              "</div>"
            ],
            "text/plain": [
              "                                            Description  ...                  graphic_card\n",
              "0     Laptop LG Gram 2021 17ZD90P-G.AX71A5 Trắng (Cp...  ...            Iris Xe Graphics  \n",
              "1     Laptop LG Gram 2021 16ZD90P-G.AX54A5 Trắng(Cpu...  ...            Iris Xe Graphics  \n",
              "2     Laptop LG Gram 2021 14Z90P-G.AH75A5 Đen (Cpu i...  ...            Iris Xe Graphics  \n",
              "3     Laptop Asus Gaming ROG Strix G512-IHN281T Đen ...  ...  GeForce GTX 1650Ti 4GB GDDR6\n",
              "4     Laptop Gaming ASUS TUF F15 FX506LU-HN138T Gray...  ...  Geforce GTX 1660Ti 6GB GDDR6\n",
              "...                                                 ...  ...                           ...\n",
              "1009  Laptop HP Pavilion 14-dv0005TU (2D7A1PA) ( i3-...  ...                     Onboard\\n\n",
              "1010  Laptop HP Zbook Fury 15 G7 (26F74AV) (Core i7 ...  ...            Quadro T1000 4GB\\n\n",
              "1011  Laptop Lenovo Thinkpad E14 (20RAS0KX00) (i5 10...  ...                     Onboard\\n\n",
              "1012  Laptop Lenovo Thinkpad X13 (20T2S01B00) (i5 10...  ...                     Onboard\\n\n",
              "1013  Laptop Lenovo Gaming 3-15ARH05 (82EY00JXVN) (R...  ...                  GTX1650 4G\\n\n",
              "\n",
              "[1014 rows x 23 columns]"
            ]
          },
          "metadata": {
            "tags": []
          },
          "execution_count": 134
        }
      ]
    },
    {
      "cell_type": "code",
      "metadata": {
        "id": "5GnkJ5Qre0Q9"
      },
      "source": [
        "dataset.drop(['ram','storage','processor','card','display', 'Description', 'Processor', 'Card', 'RAM', 'Display'],axis=1,inplace=True)"
      ],
      "execution_count": null,
      "outputs": []
    },
    {
      "cell_type": "code",
      "metadata": {
        "colab": {
          "base_uri": "https://localhost:8080/",
          "height": 1000
        },
        "id": "90ent1-mfFXa",
        "outputId": "7c29e7c2-7c2e-4e9c-8f93-2c48c7f67349"
      },
      "source": [
        "dataset"
      ],
      "execution_count": null,
      "outputs": [
        {
          "output_type": "execute_result",
          "data": {
            "text/html": [
              "<div>\n",
              "<style scoped>\n",
              "    .dataframe tbody tr th:only-of-type {\n",
              "        vertical-align: middle;\n",
              "    }\n",
              "\n",
              "    .dataframe tbody tr th {\n",
              "        vertical-align: top;\n",
              "    }\n",
              "\n",
              "    .dataframe thead th {\n",
              "        text-align: right;\n",
              "    }\n",
              "</style>\n",
              "<table border=\"1\" class=\"dataframe\">\n",
              "  <thead>\n",
              "    <tr style=\"text-align: right;\">\n",
              "      <th></th>\n",
              "      <th>Storage</th>\n",
              "      <th>Price</th>\n",
              "      <th>ram_in_gb</th>\n",
              "      <th>processor_type</th>\n",
              "      <th>processor_name</th>\n",
              "      <th>disk_drive</th>\n",
              "      <th>storage_in_SSD</th>\n",
              "      <th>storage_in_HDD</th>\n",
              "      <th>size_in_inches</th>\n",
              "      <th>description</th>\n",
              "      <th>company</th>\n",
              "      <th>graphic_card_company</th>\n",
              "      <th>graphic_card</th>\n",
              "    </tr>\n",
              "  </thead>\n",
              "  <tbody>\n",
              "    <tr>\n",
              "      <th>0</th>\n",
              "      <td>256Gb SSD</td>\n",
              "      <td>44850000</td>\n",
              "      <td>16</td>\n",
              "      <td>i7-1165G7</td>\n",
              "      <td>Intel</td>\n",
              "      <td>SSD</td>\n",
              "      <td>256</td>\n",
              "      <td>0</td>\n",
              "      <td>17</td>\n",
              "      <td>Laptop LG Gram 2021 17ZD90P-G.AX71A5 Trắng (Cp...</td>\n",
              "      <td>LG</td>\n",
              "      <td>Intel</td>\n",
              "      <td>Iris Xe Graphics</td>\n",
              "    </tr>\n",
              "    <tr>\n",
              "      <th>1</th>\n",
              "      <td>512GB SSD</td>\n",
              "      <td>39900000</td>\n",
              "      <td>8</td>\n",
              "      <td>i5-1135G7</td>\n",
              "      <td>Intel</td>\n",
              "      <td>SSD</td>\n",
              "      <td>512</td>\n",
              "      <td>0</td>\n",
              "      <td>16</td>\n",
              "      <td>Laptop LG Gram 2021 16ZD90P-G.AX54A5 Trắng(Cpu...</td>\n",
              "      <td>LG</td>\n",
              "      <td>Intel</td>\n",
              "      <td>Iris Xe Graphics</td>\n",
              "    </tr>\n",
              "    <tr>\n",
              "      <th>2</th>\n",
              "      <td>512GB SSD</td>\n",
              "      <td>47900000</td>\n",
              "      <td>16</td>\n",
              "      <td>i7-1165G7</td>\n",
              "      <td>Intel</td>\n",
              "      <td>SSD</td>\n",
              "      <td>512</td>\n",
              "      <td>0</td>\n",
              "      <td>16</td>\n",
              "      <td>Laptop LG Gram 2021 14Z90P-G.AH75A5 Đen (Cpu i...</td>\n",
              "      <td>LG</td>\n",
              "      <td>Intel</td>\n",
              "      <td>Iris Xe Graphics</td>\n",
              "    </tr>\n",
              "    <tr>\n",
              "      <th>3</th>\n",
              "      <td>512GB SSD</td>\n",
              "      <td>27450000</td>\n",
              "      <td>8</td>\n",
              "      <td>i7-10870H</td>\n",
              "      <td>Intel</td>\n",
              "      <td>SSD</td>\n",
              "      <td>512</td>\n",
              "      <td>0</td>\n",
              "      <td>16</td>\n",
              "      <td>Laptop Asus Gaming ROG Strix G512-IHN281T Đen ...</td>\n",
              "      <td>Asus</td>\n",
              "      <td>NVIDIA</td>\n",
              "      <td>GeForce GTX 1650Ti 4GB GDDR6</td>\n",
              "    </tr>\n",
              "    <tr>\n",
              "      <th>4</th>\n",
              "      <td>512GB SSD</td>\n",
              "      <td>28590000</td>\n",
              "      <td>8</td>\n",
              "      <td>I7-10870H</td>\n",
              "      <td>Intel</td>\n",
              "      <td>SSD</td>\n",
              "      <td>512</td>\n",
              "      <td>0</td>\n",
              "      <td>16</td>\n",
              "      <td>Laptop Gaming ASUS TUF F15 FX506LU-HN138T Gray...</td>\n",
              "      <td>Microsoft</td>\n",
              "      <td>NVIDIA</td>\n",
              "      <td>Geforce GTX 1660Ti 6GB GDDR6</td>\n",
              "    </tr>\n",
              "    <tr>\n",
              "      <th>...</th>\n",
              "      <td>...</td>\n",
              "      <td>...</td>\n",
              "      <td>...</td>\n",
              "      <td>...</td>\n",
              "      <td>...</td>\n",
              "      <td>...</td>\n",
              "      <td>...</td>\n",
              "      <td>...</td>\n",
              "      <td>...</td>\n",
              "      <td>...</td>\n",
              "      <td>...</td>\n",
              "      <td>...</td>\n",
              "      <td>...</td>\n",
              "    </tr>\n",
              "    <tr>\n",
              "      <th>1009</th>\n",
              "      <td>256GB SSD\\n</td>\n",
              "      <td>13999000</td>\n",
              "      <td>4</td>\n",
              "      <td>i3-1115G4</td>\n",
              "      <td>Intel</td>\n",
              "      <td>SSD</td>\n",
              "      <td>256</td>\n",
              "      <td>0</td>\n",
              "      <td>16</td>\n",
              "      <td>Laptop HP Pavilion 14-dv0005TU (2D7A1PA) ( i3-...</td>\n",
              "      <td>HP</td>\n",
              "      <td>Onboard</td>\n",
              "      <td>Onboard\\n</td>\n",
              "    </tr>\n",
              "    <tr>\n",
              "      <th>1010</th>\n",
              "      <td>512GB SSD\\n</td>\n",
              "      <td>54999000</td>\n",
              "      <td>16</td>\n",
              "      <td>i7 10510U</td>\n",
              "      <td>Intel</td>\n",
              "      <td>SSD</td>\n",
              "      <td>512</td>\n",
              "      <td>0</td>\n",
              "      <td>16</td>\n",
              "      <td>Laptop HP Zbook Fury 15 G7 (26F74AV) (Core i7 ...</td>\n",
              "      <td>HP</td>\n",
              "      <td>Intel</td>\n",
              "      <td>Quadro T1000 4GB\\n</td>\n",
              "    </tr>\n",
              "    <tr>\n",
              "      <th>1011</th>\n",
              "      <td>256GB SSD\\n</td>\n",
              "      <td>16899000</td>\n",
              "      <td>8</td>\n",
              "      <td>i5 10210U</td>\n",
              "      <td>Intel</td>\n",
              "      <td>SSD</td>\n",
              "      <td>256</td>\n",
              "      <td>0</td>\n",
              "      <td>16</td>\n",
              "      <td>Laptop Lenovo Thinkpad E14 (20RAS0KX00) (i5 10...</td>\n",
              "      <td>Lenovo</td>\n",
              "      <td>Onboard</td>\n",
              "      <td>Onboard\\n</td>\n",
              "    </tr>\n",
              "    <tr>\n",
              "      <th>1012</th>\n",
              "      <td>512GB SSD\\n</td>\n",
              "      <td>29499000</td>\n",
              "      <td>8</td>\n",
              "      <td>i5 10210U</td>\n",
              "      <td>Intel</td>\n",
              "      <td>SSD</td>\n",
              "      <td>512</td>\n",
              "      <td>0</td>\n",
              "      <td>16</td>\n",
              "      <td>Laptop Lenovo Thinkpad X13 (20T2S01B00) (i5 10...</td>\n",
              "      <td>Lenovo</td>\n",
              "      <td>Onboard</td>\n",
              "      <td>Onboard\\n</td>\n",
              "    </tr>\n",
              "    <tr>\n",
              "      <th>1013</th>\n",
              "      <td>256GB SSD\\n</td>\n",
              "      <td>17699000</td>\n",
              "      <td>8</td>\n",
              "      <td>AMD R5 4600H</td>\n",
              "      <td>AMD</td>\n",
              "      <td>SSD</td>\n",
              "      <td>256</td>\n",
              "      <td>0</td>\n",
              "      <td>16</td>\n",
              "      <td>Laptop Lenovo Gaming 3-15ARH05 (82EY00JXVN) (R...</td>\n",
              "      <td>Lenovo</td>\n",
              "      <td>Intel</td>\n",
              "      <td>GTX1650 4G\\n</td>\n",
              "    </tr>\n",
              "  </tbody>\n",
              "</table>\n",
              "<p>1014 rows × 13 columns</p>\n",
              "</div>"
            ],
            "text/plain": [
              "          Storage     Price  ... graphic_card_company                  graphic_card\n",
              "0       256Gb SSD  44850000  ...                Intel            Iris Xe Graphics  \n",
              "1       512GB SSD  39900000  ...                Intel            Iris Xe Graphics  \n",
              "2       512GB SSD  47900000  ...                Intel            Iris Xe Graphics  \n",
              "3       512GB SSD  27450000  ...               NVIDIA  GeForce GTX 1650Ti 4GB GDDR6\n",
              "4       512GB SSD  28590000  ...               NVIDIA  Geforce GTX 1660Ti 6GB GDDR6\n",
              "...           ...       ...  ...                  ...                           ...\n",
              "1009  256GB SSD\\n  13999000  ...              Onboard                     Onboard\\n\n",
              "1010  512GB SSD\\n  54999000  ...                Intel            Quadro T1000 4GB\\n\n",
              "1011  256GB SSD\\n  16899000  ...              Onboard                     Onboard\\n\n",
              "1012  512GB SSD\\n  29499000  ...              Onboard                     Onboard\\n\n",
              "1013  256GB SSD\\n  17699000  ...                Intel                  GTX1650 4G\\n\n",
              "\n",
              "[1014 rows x 13 columns]"
            ]
          },
          "metadata": {
            "tags": []
          },
          "execution_count": 136
        }
      ]
    },
    {
      "cell_type": "code",
      "metadata": {
        "colab": {
          "background_save": true
        },
        "id": "ajRu_uL2gESg"
      },
      "source": [
        "dataset.to_excel('datalaptop-cleaned.xlsx')"
      ],
      "execution_count": null,
      "outputs": []
    }
  ]
}